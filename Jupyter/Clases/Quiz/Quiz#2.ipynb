{
 "cells": [
  {
   "cell_type": "code",
   "execution_count": null,
   "id": "1c02aaab",
   "metadata": {},
   "outputs": [],
   "source": [
    "stack=[]\n",
    "def push(stack, item):\n",
    "    stack.append(item)\n",
    "def pop (stack):\n",
    "    return stack.pop()\n"
   ]
  },
  {
   "cell_type": "code",
   "execution_count": null,
   "id": "b6d3c213",
   "metadata": {},
   "outputs": [],
   "source": [
    "stack=[]\n",
    "print(stack)\n",
    "push(stack ,\"A\")#psuh agrega elementos a la lista \n",
    "print(stack)\n",
    "push(stack, \"B\")#push elimina el ultimo objeto de la lista\n",
    "print(stack)\n",
    "pop(stack)\n",
    "print(stack)\n",
    "pop(stack)\n",
    "print(stack)"
   ]
  },
  {
   "cell_type": "code",
   "execution_count": null,
   "id": "e166edaf",
   "metadata": {},
   "outputs": [],
   "source": [
    "def is_empty(stack):#comprueba si esta vacia la lista\n",
    "    return True if len(stack)==0 else False \n",
    "#si al leer el valor de stack este es igual 0 regresa el valor \"true\" en caso contrario regresa \"false\"                                           \n",
    "stack=[]\n",
    "print(is_empty(stack))\n",
    "def pop(stack):\n",
    "    return None if is_empty(stack) else stack.pop()\n",
    "#si el valor de la funcion \"is_empty\" es true imprime que la lista esta vacia si no elimina el ultimo elemento de la lista\n",
    "stack=[]\n",
    "print(pop(stack))\n"
   ]
  },
  {
   "cell_type": "code",
   "execution_count": null,
   "id": "27ad1c77",
   "metadata": {},
   "outputs": [],
   "source": [
    "l1=['I like','I love']\n",
    "l2=['pancake.','kiwi juice.','espresso.']\n",
    "for x in range (len(l2)):\n",
    "    print(l1[0]+\" \"+l2[x])\n",
    "for i in range (len(l2)):\n",
    "    print(l1[1]+\" \"+l2[i])\n",
    "    "
   ]
  },
  {
   "cell_type": "code",
   "execution_count": null,
   "id": "ccce15db",
   "metadata": {},
   "outputs": [],
   "source": [
    "person={'Name':'David Doe','Age':26,'Weight':82,'Job':'Data Scientist'}\n",
    "person['Padre'] = 'John Doe'\n",
    "comprobacion=1\n",
    "print(person)\n",
    "def agregar(Clave,Valor):\n",
    "    person[Clave]=(Valor)\n",
    "while comprobacion !=0:\n",
    "    clave=input(\"Ingrese la clave\\n\"+\"-\")\n",
    "    valor=input(\"Ingrese El Valor\\n\"+\"-\")\n",
    "    agregar(clave,valor);\n",
    "    comprobacion=(int(input(\"Desea continuar ? si(1) no(0)\\n\"+\"-\")))\n",
    "if comprobacion==0:\n",
    "    print(person)\n",
    "\n",
    "    "
   ]
  },
  {
   "cell_type": "code",
   "execution_count": 7,
   "id": "1c3fb78f",
   "metadata": {},
   "outputs": [
    {
     "name": "stdout",
     "output_type": "stream",
     "text": [
      "[5, 6, 3, 9, 2, 7, 3, 8, 12]\n"
     ]
    }
   ],
   "source": [
    "lista=[5,6,3,9,2,12,3,8,7]\n",
    "for x in range (len(lista)):\n",
    "    lista[5]=lista[5]+lista[8]\n",
    "    lista[8]=lista[5]-lista[8]\n",
    "    lista[5]=lista[5]-lista[8]\n",
    "print(lista)"
   ]
  },
  {
   "cell_type": "code",
   "execution_count": null,
   "id": "6412c402",
   "metadata": {},
   "outputs": [],
   "source": [
    "my_list=[[1, 2], [3, 4], [5, 6]]\n",
    "lista=[]\n",
    "for x in range (len(my_list)):\n",
    "    for i in range(0,len(my_list[x])):\n",
    "        lista.append(my_list[x][i])\n",
    "print(lista)"
   ]
  },
  {
   "cell_type": "code",
   "execution_count": 6,
   "id": "da312cb7",
   "metadata": {},
   "outputs": [
    {
     "name": "stdout",
     "output_type": "stream",
     "text": [
      "357\n"
     ]
    }
   ],
   "source": [
    "maria={'korean':94,'english':91,'mathematics':89,'science':83}\n",
    "valores=(list(maria.values()))\n",
    "suma=0\n",
    "for x in range (len(valores)):\n",
    "      suma+=valores[x]\n",
    "print(suma)"
   ]
  },
  {
   "cell_type": "code",
   "execution_count": 35,
   "id": "2445d6d0",
   "metadata": {},
   "outputs": [
    {
     "name": "stdout",
     "output_type": "stream",
     "text": [
      "False\n"
     ]
    }
   ],
   "source": [
    "import copy\n",
    "scholl={'kim':{'age':16,'hei':170,'grade':3},'lee':{'age':15,'hei':168,'grade':2},\n",
    "'choi':{'age':14,'hei':173,'grade':1}}\n",
    "scholl2=copy.deepcopy(scholl)\n",
    "print(scholl is scholl2)"
   ]
  },
  {
   "cell_type": "code",
   "execution_count": 36,
   "id": "788814d4",
   "metadata": {},
   "outputs": [
    {
     "data": {
      "text/plain": [
       "[('China', 1391), ('India', 1364), ('Estados Unidos', 327), ('Indonesia', 264)]"
      ]
     },
     "execution_count": 36,
     "metadata": {},
     "output_type": "execute_result"
    }
   ],
   "source": [
    "paises = [\"China\", \"India\", \"Estados Unidos\", \"Indonesia\"]\n",
    "poblaciones = [1391, 1364, 327, 264]\n",
    "list(zip(paises, poblaciones))\n"
   ]
  }
 ],
 "metadata": {
  "kernelspec": {
   "display_name": "Python 3 (ipykernel)",
   "language": "python",
   "name": "python3"
  },
  "language_info": {
   "codemirror_mode": {
    "name": "ipython",
    "version": 3
   },
   "file_extension": ".py",
   "mimetype": "text/x-python",
   "name": "python",
   "nbconvert_exporter": "python",
   "pygments_lexer": "ipython3",
   "version": "3.9.12"
  }
 },
 "nbformat": 4,
 "nbformat_minor": 5
}
