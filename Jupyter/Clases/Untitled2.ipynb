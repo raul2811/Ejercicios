{
 "cells": [
  {
   "cell_type": "code",
   "execution_count": 3,
   "id": "20dbbe1b",
   "metadata": {},
   "outputs": [
    {
     "data": {
      "text/plain": [
       "'1.4.2'"
      ]
     },
     "execution_count": 3,
     "metadata": {},
     "output_type": "execute_result"
    }
   ],
   "source": [
    "import pandas as pd \n",
    "pd.__version__"
   ]
  },
  {
   "cell_type": "code",
   "execution_count": 7,
   "id": "fe82d7e3",
   "metadata": {},
   "outputs": [
    {
     "name": "stdout",
     "output_type": "stream",
     "text": [
      "0    5\n",
      "1    6\n",
      "2    7\n",
      "3    8\n",
      "dtype: int64\n"
     ]
    }
   ],
   "source": [
    "import pandas as pd\n",
    "s=pd.Series([5,6,7,8])\n",
    "print(s)"
   ]
  },
  {
   "cell_type": "code",
   "execution_count": 9,
   "id": "ddecdb45",
   "metadata": {},
   "outputs": [
    {
     "name": "stdout",
     "output_type": "stream",
     "text": [
      "casa    5\n",
      "asfd    6\n",
      "2       7\n",
      "jdh     8\n",
      "dtype: int64\n"
     ]
    }
   ],
   "source": [
    "import pandas as pd \n",
    "s=pd.Series([5,6,7,8],index=[\"casa\",\"asfd\",2,\"jdh\"])\n",
    "print(s)"
   ]
  },
  {
   "cell_type": "code",
   "execution_count": 14,
   "id": "3cd43df2",
   "metadata": {},
   "outputs": [
    {
     "name": "stdout",
     "output_type": "stream",
     "text": [
      "iron man            2010\n",
      "capitan amerdica    2011\n",
      "thor                2013\n",
      "winter soldier      2014\n",
      "ultron              2015\n",
      "ant-man             2016\n",
      "spiderman           2017\n",
      "dtype: int64\n"
     ]
    }
   ],
   "source": [
    "import pandas as pd \n",
    "marvel__years={\"iron man\":2010,\"capitan amerdica\":2011,\"thor\":2013,\"winter soldier\":2014,\"ultron\":2015,\"ant-man\":2016,\"spiderman\":2017}\n",
    "s=pd.Series(marvel__years)\n",
    "print(s)"
   ]
  },
  {
   "cell_type": "code",
   "execution_count": 16,
   "id": "1abd6d15",
   "metadata": {},
   "outputs": [
    {
     "name": "stdout",
     "output_type": "stream",
     "text": [
      "0    10\n",
      "1    11\n",
      "2    12\n",
      "3    13\n",
      "4    14\n",
      "5    15\n",
      "dtype: int32\n"
     ]
    }
   ],
   "source": [
    "import pandas as pd \n",
    "import numpy as np\n",
    "n=np.arange(10,16)\n",
    "s=pd.Series(n)\n",
    "print(s)"
   ]
  },
  {
   "cell_type": "code",
   "execution_count": 18,
   "id": "9238a2ff",
   "metadata": {},
   "outputs": [
    {
     "name": "stdout",
     "output_type": "stream",
     "text": [
      "DatetimeIndex(['2021-01-01', '2021-01-02', '2021-01-03', '2021-01-04',\n",
      "               '2021-01-05', '2021-01-06', '2021-01-07'],\n",
      "              dtype='datetime64[ns]', freq='D')\n"
     ]
    }
   ],
   "source": [
    "import pandas as pd \n",
    "dates=pd.date_range(\"2021-01-01\",\"2021-01-07\")\n",
    "print(dates)"
   ]
  },
  {
   "cell_type": "code",
   "execution_count": 24,
   "id": "ceae043e",
   "metadata": {},
   "outputs": [
    {
     "name": "stdout",
     "output_type": "stream",
     "text": [
      "0    1\n",
      "1    2\n",
      "2    3\n",
      "3    4\n",
      "4    5\n",
      "dtype: int64\n",
      "------------------------------\n",
      "0    10\n",
      "1    10\n",
      "2    10\n",
      "3    10\n",
      "4    10\n",
      "dtype: int64\n"
     ]
    }
   ],
   "source": [
    "import pandas as pd \n",
    "s=[1,2,3,4,5]\n",
    "t=[9,8,7,6,5]\n",
    "serie1=pd.Series(s)\n",
    "serie2=pd.Series(t)\n",
    "serie3=serie1+serie2\n",
    "print(serie)\n",
    "print(\"------------------------------\")\n",
    "print(serie3)"
   ]
  },
  {
   "cell_type": "code",
   "execution_count": 28,
   "id": "223f884c",
   "metadata": {},
   "outputs": [
    {
     "data": {
      "image/png": "[encoded data removed]",
      "text/plain": [
       "<Figure size 432x288 with 1 Axes>"
      ]
     },
     "metadata": {
      "needs_background": "light"
     },
     "output_type": "display_data"
    }
   ],
   "source": [
    "import matplotlib.pyplot as plt\n",
    "x=range(100)\n",
    "y=[value**2 for value in x ]\n",
    "plt.plot(x,y,linewidth=5.0,color=\"red\")\n",
    "plt.title(\"grafica de x2\")\n",
    "plt.xlabel(\"Entradas\")\n",
    "plt.ylabel(\"Salidas\")\n",
    "plt.show()"
   ]
  },
  {
   "cell_type": "code",
   "execution_count": 32,
   "id": "4569dfe4",
   "metadata": {},
   "outputs": [
    {
     "data": {
      "image/png": "[encoded data removed]",
      "text/plain": [
       "<Figure size 432x288 with 1 Axes>"
      ]
     },
     "metadata": {
      "needs_background": "light"
     },
     "output_type": "display_data"
    }
   ],
   "source": [
    "from matplotlib import pyplot as plt\n",
    "edades=[16,17,20,22,25,28]\n",
    "plt.bar(range(len(edades)),edades)\n",
    "plt.show()"
   ]
  },
  {
   "cell_type": "code",
   "execution_count": 36,
   "id": "87970294",
   "metadata": {},
   "outputs": [
    {
     "data": {
      "image/png": "[encoded data removed]",
      "text/plain": [
       "<Figure size 432x288 with 1 Axes>"
      ]
     },
     "metadata": {
      "needs_background": "light"
     },
     "output_type": "display_data"
    }
   ],
   "source": [
    "import pandas as pd\n",
    "from matplotlib import pyplot as plt\n",
    "edades={\"8\":16,\"6\":17,\"4\":20,\"5\":22,\"2\":25,\"1\":28}\n",
    "s_edades=pd.Series(edades)\n",
    "plt.bar(s_edades.index,s_edades.values)\n",
    "plt.show()"
   ]
  },
  {
   "cell_type": "code",
   "execution_count": 43,
   "id": "1d33569b",
   "metadata": {},
   "outputs": [
    {
     "name": "stdout",
     "output_type": "stream",
     "text": [
      " China                  1395261000\n",
      " India                  1375898000\n",
      " Estados Unidos          329071000\n",
      " Indonesia               266614000\n",
      " Pakistán                216823000\n",
      "                           ...    \n",
      " San Marino                  33000\n",
      " Palaos                      18000\n",
      " Nauru                       11000\n",
      " Tuvalu                      10000\n",
      " Ciudad del Vaticano           800\n",
      "Length: 194, dtype: int64\n"
     ]
    }
   ],
   "source": [
    "#Ejemplo Practico\n",
    "import numpy as np \n",
    "import pandas as pd\n",
    "import matplotlib.pyplot as plt\n",
    "from pandas import ExcelWriter\n",
    "def open_xlsx(file):\n",
    "    data=pd.read_excel(file)\n",
    "    pais=data[\"PAIS\"]\n",
    "    a_2019=data[\"A_2019\"]\n",
    "    a_2022=data[\"A_2022\"]\n",
    "    lst_pais=list(pais)\n",
    "    lst_a_2019=list(a_2019)\n",
    "    lst_a_2022=list(a_2022)\n",
    "    \n",
    "    return lst_pais,lst_a_2019,lst_a_2022\n",
    "#############____________main___________#################################################\n",
    "file=\"data.xlsx\"\n",
    "pais,a_2019,a_2022=open_xlsx(file)\n",
    "dict_2019=dict(zip(pais,a_2019))\n",
    "dict_2022=dict(zip(pais,a_2022))\n",
    "s_2019=pd.Series(dict_2019)\n",
    "s_2022=pd.Series(dict_2022)\n",
    "print(s_2019)"
   ]
  }
 ],
 "metadata": {
  "kernelspec": {
   "display_name": "Python 3 (ipykernel)",
   "language": "python",
   "name": "python3"
  },
  "language_info": {
   "codemirror_mode": {
    "name": "ipython",
    "version": 3
   },
   "file_extension": ".py",
   "mimetype": "text/x-python",
   "name": "python",
   "nbconvert_exporter": "python",
   "pygments_lexer": "ipython3",
   "version": "3.9.12"
  }
 },
 "nbformat": 4,
 "nbformat_minor": 5
}
