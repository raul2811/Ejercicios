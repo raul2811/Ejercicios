{
 "cells": [
  {
   "cell_type": "code",
   "execution_count": null,
   "id": "6eb980d4",
   "metadata": {},
   "outputs": [],
   "source": [
    "#Q.05-03\n",
    "def bubblesort(S):\n",
    "    contador=(0)\n",
    "    n=len(S)\n",
    "    for i in range(n):\n",
    "        print(S)\n",
    "        for j in range(n-1):\n",
    "            if S[j]>S[j + 1]:\n",
    "                contador=contador+1\n",
    "                S[j], S[j + 1]=S[j + 1],S[j]\n",
    "S = [50, 30, 40, 10, 20]\n",
    "bubblesort(S)\n"
   ]
  },
  {
   "cell_type": "code",
   "execution_count": null,
   "id": "48850be8",
   "metadata": {},
   "outputs": [],
   "source": [
    "#Q.05-03 Demostracion manual\n",
    "S = [50, 30, 40, 10, 20]\n",
    "print(S)\n",
    "S[0], S[0 + 1]=S[0 + 1],S[0]\n",
    "S[1], S[1 + 1]=S[1 + 1],S[1]\n",
    "S[2], S[2 + 1]=S[2 + 1],S[2]\n",
    "S[3], S[3 + 1]=S[3 + 1],S[3]\n",
    "print(S)\n",
    "S[1], S[1 + 1]=S[1 + 1],S[1]\n",
    "S[2], S[2 + 1]=S[2 + 1],S[2]\n",
    "print(S)\n",
    "S[0], S[0 + 1]=S[0 + 1],S[0]\n",
    "S[1], S[1 + 1]=S[1 + 1],S[1]\n",
    "print(S)"
   ]
  },
  {
   "cell_type": "code",
   "execution_count": null,
   "id": "f25e5f87",
   "metadata": {},
   "outputs": [],
   "source": [
    "#Q. 05-02\n",
    "def insertionsort2(S):\n",
    "    contador=(0)\n",
    "    n = len(S)\n",
    "    for i in range(1, n):\n",
    "        x = S[i]\n",
    "        j = i - 1\n",
    "        print(\"El contador {}   La condicion {} y {}>{}\".format(contador,j,S[j],x))\n",
    "        while j>= 0 and S[j] > x:\n",
    "            S[j + 1] = S[j]\n",
    "            j-= 1\n",
    "        S[j + 1] = x\n",
    "        contador=contador+1\n",
    "S=[50, 30, 40, 10, 20]\n",
    "insertionsort2(S)                  "
   ]
  },
  {
   "cell_type": "code",
   "execution_count": null,
   "id": "91fb16bc",
   "metadata": {},
   "outputs": [],
   "source": [
    "#Q.05-03\n",
    "S = [12, 11, 13, 5, 6, 7]\n",
    "a=(int(len(S)))\n",
    "for x in range (a-1):\n",
    "    print(x)"
   ]
  },
  {
   "cell_type": "code",
   "execution_count": null,
   "id": "7ace9a34",
   "metadata": {},
   "outputs": [],
   "source": [
    "#Q.06-01. \n",
    "def factorial(n):\n",
    "    if n == 0:\n",
    "        return 1\n",
    "    return n * factorial(n-1)\n",
    "factorial(5)"
   ]
  },
  {
   "cell_type": "code",
   "execution_count": null,
   "id": "81ec152a",
   "metadata": {},
   "outputs": [],
   "source": [
    "#Q.06-02. \n",
    "factorial_memo ={}\n",
    "def factorial(k):\n",
    "    if k < 2: return 1\n",
    "    if k  not in factorial_memo:\n",
    "        factorial_memo[k] = k * factorial(k-1)\n",
    "    return factorial_memo[k]\n",
    "factorial(5)"
   ]
  },
  {
   "cell_type": "code",
   "execution_count": null,
   "id": "e7f4cd7b",
   "metadata": {},
   "outputs": [],
   "source": [
    "#comprobando que hace not in >;V\n",
    "S = [12, 11, 13, 5, 6, 7]\n",
    "print(12 not in S)\n"
   ]
  },
  {
   "cell_type": "code",
   "execution_count": null,
   "id": "66446173",
   "metadata": {},
   "outputs": [],
   "source": [
    "#Q.06-03. \n",
    "def a(n):\n",
    "    if n > 1:\n",
    "        return a(n-1) + a(n-2)\n",
    "    return n\n",
    "\n",
    "for x in range(10):\n",
    "    print(\"Segun la secuencia de Fibonacci  a{} es {}\".format(x,a(x)))"
   ]
  },
  {
   "cell_type": "code",
   "execution_count": null,
   "id": "106743e9",
   "metadata": {},
   "outputs": [],
   "source": [
    "#Q. 07-01. \n",
    "import pandas as pd\n",
    "d_dict={\"col1\":[1,2],\"col2\":[3,4], \"col3\":[5,6],\"col4\":[7,8]}\n",
    "d_dataframe=pd.DataFrame.from_dict(d_dict)\n",
    "d_dataframe"
   ]
  },
  {
   "cell_type": "code",
   "execution_count": null,
   "id": "5812d966",
   "metadata": {},
   "outputs": [],
   "source": [
    "#Q.07-02. \n",
    "import pandas as pd\n",
    "d_dict={\"col1\":[1,2],\"col2\":[3,4], \"col3\":[5,6],\"col4\":[7,8]}\n",
    "d_dataframe=pd.DataFrame.from_dict(d_dict)\n",
    "new_df=pd.DataFrame(d_dataframe[\"col4\"])\n",
    "new_df"
   ]
  },
  {
   "cell_type": "code",
   "execution_count": 34,
   "id": "01fd6e43",
   "metadata": {},
   "outputs": [
    {
     "data": {
      "text/html": [
       "<div>\n",
       "<style scoped>\n",
       "    .dataframe tbody tr th:only-of-type {\n",
       "        vertical-align: middle;\n",
       "    }\n",
       "\n",
       "    .dataframe tbody tr th {\n",
       "        vertical-align: top;\n",
       "    }\n",
       "\n",
       "    .dataframe thead th {\n",
       "        text-align: right;\n",
       "    }\n",
       "</style>\n",
       "<table border=\"1\" class=\"dataframe\">\n",
       "  <thead>\n",
       "    <tr style=\"text-align: right;\">\n",
       "      <th></th>\n",
       "      <th>col1</th>\n",
       "      <th>col2</th>\n",
       "      <th>col3</th>\n",
       "      <th>col4</th>\n",
       "    </tr>\n",
       "  </thead>\n",
       "  <tbody>\n",
       "    <tr>\n",
       "      <th>Primero</th>\n",
       "      <td>1</td>\n",
       "      <td>3</td>\n",
       "      <td>5</td>\n",
       "      <td>7</td>\n",
       "    </tr>\n",
       "    <tr>\n",
       "      <th>Segundo</th>\n",
       "      <td>2</td>\n",
       "      <td>4</td>\n",
       "      <td>6</td>\n",
       "      <td>8</td>\n",
       "    </tr>\n",
       "  </tbody>\n",
       "</table>\n",
       "</div>"
      ],
      "text/plain": [
       "         col1  col2  col3  col4\n",
       "Primero     1     3     5     7\n",
       "Segundo     2     4     6     8"
      ]
     },
     "execution_count": 34,
     "metadata": {},
     "output_type": "execute_result"
    }
   ],
   "source": [
    "#Q.07-03.\n",
    "import pandas as pd\n",
    "d_dict={\"col1\":[1,2],\"col2\":[3,4], \"col3\":[5,6],\"col4\":[7,8]}\n",
    "d_dataframe=pd.DataFrame(d_dict,index=[\"Primero\",\"Segundo\"])\n",
    "d_dataframe\n"
   ]
  },
  {
   "cell_type": "code",
   "execution_count": null,
   "id": "ee80cc38",
   "metadata": {},
   "outputs": [],
   "source": [
    "import pandas as pd\n",
    "d_dict={\"col1\":[1,2],\"col2\":[3,4], \"col3\":[5,6],\"col4\":[7,8]}\n",
    "d_dataframe=pd.DataFrame.from_dict(d_dict)\n",
    "print(d_dataframe[\"col1\"][0])\n",
    "print(d_dataframe[\"col4\"][1])\n"
   ]
  },
  {
   "cell_type": "code",
   "execution_count": 1,
   "id": "ba5d906f",
   "metadata": {},
   "outputs": [
    {
     "name": "stdout",
     "output_type": "stream",
     "text": [
      "El Valor De col1 Es False\n",
      "\n",
      "El Valor De col2 Es False\n",
      "\n",
      "El Valor De col3 Es False\n",
      "\n",
      "El Valor De col4 Es True\n",
      "\n"
     ]
    },
    {
     "data": {
      "text/html": [
       "<div>\n",
       "<style scoped>\n",
       "    .dataframe tbody tr th:only-of-type {\n",
       "        vertical-align: middle;\n",
       "    }\n",
       "\n",
       "    .dataframe tbody tr th {\n",
       "        vertical-align: top;\n",
       "    }\n",
       "\n",
       "    .dataframe thead th {\n",
       "        text-align: right;\n",
       "    }\n",
       "</style>\n",
       "<table border=\"1\" class=\"dataframe\">\n",
       "  <thead>\n",
       "    <tr style=\"text-align: right;\">\n",
       "      <th></th>\n",
       "      <th>col1</th>\n",
       "      <th>col2</th>\n",
       "      <th>col3</th>\n",
       "      <th>col4</th>\n",
       "    </tr>\n",
       "  </thead>\n",
       "  <tbody>\n",
       "    <tr>\n",
       "      <th>0</th>\n",
       "      <td>1</td>\n",
       "      <td>3</td>\n",
       "      <td>5</td>\n",
       "      <td>none</td>\n",
       "    </tr>\n",
       "    <tr>\n",
       "      <th>1</th>\n",
       "      <td>2</td>\n",
       "      <td>4</td>\n",
       "      <td>6</td>\n",
       "      <td>none</td>\n",
       "    </tr>\n",
       "  </tbody>\n",
       "</table>\n",
       "</div>"
      ],
      "text/plain": [
       "   col1  col2  col3  col4\n",
       "0     1     3     5  none\n",
       "1     2     4     6  none"
      ]
     },
     "execution_count": 1,
     "metadata": {},
     "output_type": "execute_result"
    }
   ],
   "source": [
    "#Q. 07-04.\n",
    "\"\"\" Buenas profe espero haber entendido bien el problema\"\"\"\n",
    "import pandas as pd\n",
    "d_dict={\"col1\":[1,2],\"col2\":[3,4], \"col3\":[5,6],\"col4\":[7,8],\"col4\":[]}\n",
    "def valorvacio(diccionario):\n",
    "    \"\"\"tranforma la data en data frame y la filtra asignando el valor \"none\" a valores vacios y\n",
    "    imprime en pantalla que keys tenian valores vacios\"\"\"\n",
    "    keys=(list(diccionario.keys()))\n",
    "    cantidad_de_keys=(len(keys))\n",
    "    for x in range(cantidad_de_keys):\n",
    "        valor_de_la_key=(len(diccionario[keys[x]]))\n",
    "        if valor_de_la_key == 0:\n",
    "            diccionario[keys[x]]=\"none\"\n",
    "    for i in range (cantidad_de_keys):\n",
    "        comprobacion=\"none\" in diccionario[keys[i]]\n",
    "        print(\"El Valor De {} Es {}\\n\".format(keys[i],comprobacion))\n",
    "    return diccionario\n",
    "d_dataframe=pd.DataFrame(valorvacio(d_dict))\n",
    "d_dataframe"
   ]
  },
  {
   "cell_type": "code",
   "execution_count": 1,
   "id": "28d56fdb",
   "metadata": {},
   "outputs": [
    {
     "name": "stdout",
     "output_type": "stream",
     "text": [
      "El Valor De col1 Es False\n",
      "\n",
      "El Valor De col2 Es False\n",
      "\n",
      "El Valor De col3 Es False\n",
      "\n",
      "El Valor De col4 Es False\n",
      "\n",
      "   col1  col2  col3  col4\n",
      "0     1     3     5     7\n",
      "1     2     4     6     8\n",
      "\n",
      "La Desviasion Estandar ES:\n",
      "col1    0.707107\n",
      "col2    0.707107\n",
      "col3    0.707107\n",
      "col4    0.707107\n",
      "dtype: float64,\n",
      "La Media Es:\n",
      "col1    1.5\n",
      "col2    3.5\n",
      "col3    5.5\n",
      "col4    7.5\n",
      "dtype: float64,\n",
      "El Valor Minimo Es\n",
      "col1    1\n",
      "col2    3\n",
      "col3    5\n",
      "col4    7\n",
      "dtype: int64,\n",
      "El Valor Maximo Es\n",
      "col1    2\n",
      "col2    4\n",
      "col3    6\n",
      "col4    8\n",
      "dtype: int64.\n",
      "             0\n",
      "col1  0.707107\n",
      "col2  0.707107\n",
      "col3  0.707107\n",
      "col4  0.707107\n"
     ]
    }
   ],
   "source": [
    "#Q. 07-04.\n",
    "\"\"\" Buenas profe espero haber entendido bien el problema\"\"\"\n",
    "import pandas as pd\n",
    "d_dict={\"col1\":[1,2],\"col2\":[3,4], \"col3\":[5,6],\"col4\":[7,8],\"col4\":[7,8]}\n",
    "def valorvacio(diccionario):\n",
    "    \"\"\"tranforma la data en data frame y la filtra asignando el valor \"none\" a valores vacios y\n",
    "    imprime en pantalla que keys tenian valores vacios\"\"\"\n",
    "    keys=(list(diccionario.keys()))\n",
    "    cantidad_de_keys=(len(keys))\n",
    "    for x in range(cantidad_de_keys):\n",
    "        valor_de_la_key=(len(diccionario[keys[x]]))\n",
    "        if valor_de_la_key == 0:\n",
    "            diccionario[keys[x]]=\"0\"\n",
    "    for i in range (cantidad_de_keys):\n",
    "        comprobacion=\"none\" in diccionario[keys[i]]\n",
    "        print(\"El Valor De {} Es {}\\n\".format(keys[i],comprobacion))\n",
    "    return diccionario\n",
    "d_dataframe=pd.DataFrame(valorvacio(d_dict))\n",
    "full=pd.DataFrame(d_dataframe.std())\n",
    "print(d_dataframe)\n",
    "print(\"\\nLa Desviasion Estandar ES:\\n{},\\nLa Media Es:\\n{},\\nEl Valor Minimo Es\\n{},\\nEl Valor Maximo Es\\n{}.\"\n",
    "      .format(d_dataframe.std(),d_dataframe.mean(),d_dataframe.min(),d_dataframe.max()))\n",
    "print(full)"
   ]
  }
 ],
 "metadata": {
  "kernelspec": {
   "display_name": "Python 3 (ipykernel)",
   "language": "python",
   "name": "python3"
  },
  "language_info": {
   "codemirror_mode": {
    "name": "ipython",
    "version": 3
   },
   "file_extension": ".py",
   "mimetype": "text/x-python",
   "name": "python",
   "nbconvert_exporter": "python",
   "pygments_lexer": "ipython3",
   "version": "3.9.12"
  }
 },
 "nbformat": 4,
 "nbformat_minor": 5
}
