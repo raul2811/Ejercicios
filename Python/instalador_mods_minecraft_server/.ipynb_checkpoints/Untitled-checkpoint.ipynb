{
 "cells": [
  {
   "cell_type": "code",
   "execution_count": 3,
   "id": "ecb7f71f",
   "metadata": {},
   "outputs": [
    {
     "name": "stdout",
     "output_type": "stream",
     "text": [
      "-------------------------\n",
      "|Instalador de mods 1.0v|\n",
      "-------------------------\n"
     ]
    },
    {
     "data": {
      "application/vnd.jupyter.widget-view+json": {
       "model_id": "6c47e70e1da7435cb72e27df5e0ed052",
       "version_major": 2,
       "version_minor": 0
      },
      "text/plain": [
       "Extracting :   0%|          | 0/5376 [00:00<?, ?it/s]"
      ]
     },
     "metadata": {},
     "output_type": "display_data"
    },
    {
     "name": "stdout",
     "output_type": "stream",
     "text": [
      "Extracion completada con exito\n",
      "Presione una tecla para salir\n",
      "\n"
     ]
    },
    {
     "data": {
      "text/plain": [
       "''"
      ]
     },
     "execution_count": 3,
     "metadata": {},
     "output_type": "execute_result"
    }
   ],
   "source": [
    "import os#Manera portátil de utilizar la funcionalidad específica del sistema (según su sistema operativo). Es la elección correcta en la mayoría de los casos, a menos que necesite algo más avanzado.\n",
    "import sys#Parámetros y funciones específicos del sistema. Este módulo proporciona acceso a las variables y funciones del intérprete. El módulo os interactúa con el sistema operativo y sys interactúa con el intérprete de Python\n",
    "import pathlib#Uso de ruta avanzado. Le permite representar sistemas de archivos como objetos, con la semántica pertinente para cada sistema operativo.\n",
    "import subprocess#Gestión de ejecuciones y subprocesos directamente desde Python. Eso implica trabajar con el  stdin,  stdouty códigos de retorno.\n",
    "from pathlib import Path\n",
    "from humanize import naturalsize\n",
    "from shutil import rmtree\n",
    "import zipfile\n",
    "from tqdm.auto import tqdm\n",
    "from time import sleep\n",
    "print(\"-------------------------\")\n",
    "print(\"|Instalador de mods 1.0v|\")\n",
    "print(\"-------------------------\")\n",
    "def verificacion():\n",
    "    name=(str(os.getlogin()))\n",
    "    test_path = Path(r\"C:\\Users\\{}\\AppData\\Roaming\\.minecraft\".format(name))#Remplazar por carpeta\n",
    "    size = 0\n",
    "    comprobacion=os.path.exists('test_path')#Verifica si la carpeta existe\n",
    "    if comprobacion==True:\n",
    "        print(\"Se encontro la carpeta minecraft\")\n",
    "        for file_ in Path(test_path).rglob('*'):\n",
    "            size += file_.stat().st_size\n",
    "        tamano=naturalsize(size)\n",
    "        confirmacion=False\n",
    "        if tamano == 0:\n",
    "            print(\"se encontraron 0 archivos dentro\")\n",
    "            confirmacion=False\n",
    "        else:\n",
    "            print(\"se encontraron archivos dentro \")\n",
    "            rmtree(\"{}\".format(test_path))\n",
    "            confirmacion=False\n",
    "    else:\n",
    "        print(\"No se encontro la carpeta minecraft\")\n",
    "        confirmacion=False\n",
    "    if confirmacion == False:\n",
    "        zf = zipfile.ZipFile('mods.zip')\n",
    "        ruta_zip = \"mods.zip\"#Remplazar por nombre del zip\n",
    "        ruta_extraccion = (r\"C:\\Users\\{}\\AppData\\Roaming\\.minecraft\".format(name))#Remplazar por carpeta\n",
    "        password = None\n",
    "        uncompress_size = sum((file.file_size for file in zf.infolist()))\n",
    "        extracted_size = 0\n",
    "        for member in tqdm(zf.infolist(), desc='Extracting '):\n",
    "            #print(\"Extrañendo archivos\")\n",
    "            #print (\"%s %%\\r\" % (extracted_size * 100/uncompress_size))\n",
    "            zf.extract(member,pwd=password,path=ruta_extraccion)\n",
    "    print(\"Extracion completada con exito\")                               \n",
    "verificacion()#extrae el zip\n",
    "print(\"Presione una tecla para salir\")\n",
    "input()"
   ]
  },
  {
   "cell_type": "code",
   "execution_count": null,
   "id": "45fab70a",
   "metadata": {},
   "outputs": [],
   "source": [
    "import zipfile\n",
    "\n",
    "zf = zipfile.ZipFile('test.zip')\n",
    "\n",
    "uncompress_size = sum((file.file_size for file in zf.infolist()))\n",
    "\n",
    "extracted_size = 0\n",
    "\n",
    "for file in zf.infolist():\n",
    "    extracted_size += file.file_size\n",
    "    print (\"%s %%\" % (extracted_size * 100/uncompress_size))\n",
    "    zf.extract(file)"
   ]
  }
 ],
 "metadata": {
  "kernelspec": {
   "display_name": "Python 3 (ipykernel)",
   "language": "python",
   "name": "python3"
  },
  "language_info": {
   "codemirror_mode": {
    "name": "ipython",
    "version": 3
   },
   "file_extension": ".py",
   "mimetype": "text/x-python",
   "name": "python",
   "nbconvert_exporter": "python",
   "pygments_lexer": "ipython3",
   "version": "3.9.12"
  }
 },
 "nbformat": 4,
 "nbformat_minor": 5
}
