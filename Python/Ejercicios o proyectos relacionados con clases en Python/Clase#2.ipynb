{
 "cells": [
  {
   "cell_type": "code",
   "execution_count": null,
   "id": "70658b37",
   "metadata": {},
   "outputs": [],
   "source": [
    "#bucle que se repite un numero determinado de veces\n",
    "i=(0);\n",
    "for contador in range(10,21,1):\n",
    "    i+=(1);\n",
    "    print((\"El Valor De Contador Es:\")+str(contador)+(\"\\n\"));\n",
    "    print((\"El Valor De i Es:\")+str(i)+(\"\\n\"));"
   ]
  },
  {
   "cell_type": "code",
   "execution_count": null,
   "id": "b62443fc",
   "metadata": {},
   "outputs": [],
   "source": [
    "password=(\"python\");#contrasena correcta\n",
    "pas=(\"\");#almacena el valor ingresado por el usuario\n",
    "for contador in range (0,3,1):#en un rango de 0 a 3 en paso en 1\n",
    "    print((\"Intento #\")+str(contador+1));\n",
    "    pas=input(\"Ingrese Su Contrasena:\\n\");\n",
    "    if(pas!=password):    \n",
    "        print(\"Login Failed\");\n",
    "    else:\n",
    "        print(\"Login Success\");\n",
    "        break; "
   ]
  },
  {
   "cell_type": "code",
   "execution_count": 5,
   "id": "880fdc1a",
   "metadata": {},
   "outputs": [
    {
     "name": "stdout",
     "output_type": "stream",
     "text": [
      "3\n"
     ]
    }
   ],
   "source": [
    "import random as rd #importo libreria random\n",
    "print(rd.randrange(1,7,2));"
   ]
  },
  {
   "cell_type": "code",
   "execution_count": null,
   "id": "bc30e5fd",
   "metadata": {},
   "outputs": [],
   "source": [
    "pi=(3.141592654);\n",
    "texto=(\"El Valor De Pi Es :\");\n",
    "lamda=(1);\n",
    "print(texto+str(pi));\n",
    "print(\"El Valor De Pi Es :\"+str(pi));\n",
    "print(\"El Valor De Pi Es : {} y el valor de lamda es :{} \".format(pi,lamda));\n",
    "print(\"El Valor De Pi Es : {0:.4f} \".format(pi));\n",
    "print(\"El Valor De Pi Es : {0:.0f} \".format(pi));\n",
    "print(list(range(2,11,2)));\n",
    "for i in range (2,11,2):\n",
    "    print(\"{} {} {}\".format(i,i*i,i*i*i))"
   ]
  },
  {
   "cell_type": "code",
   "execution_count": null,
   "id": "c97c28f8",
   "metadata": {},
   "outputs": [],
   "source": [
    "print(list(range(2,11,2)));\n",
    "for i in range (2,11,2):\n",
    "    print(\"{0:3d} {1:4d} {2:5d}\".format(i,i*i,i*i*i))"
   ]
  },
  {
   "cell_type": "code",
   "execution_count": null,
   "id": "06484b3e",
   "metadata": {},
   "outputs": [],
   "source": [
    "#LISTAS!!!!!!!!!!#conjunto de datos separoados por una coma,se pueden editar se definen con corchete\n",
    "lstSuper=[\"leche\",\"pan\",\"carne\",8];\n",
    "print(lstSuper[2]);  \n",
    "lstSuper[2]=(\"pescado\");\n",
    "print(lstSuper[2]); \n",
    "print(lstSuper);  \n",
    "#TUPLAS!!!!!!!!!!#conjunto de datos separoados por una coma,no se pueden editar se definen con parentesis\n",
    "print(\"__________________________________________________\");\n",
    "tuplaBanco=(\"jose\",1234);\n",
    "print(tuplaBanco[1]);\n",
    "lstBanco=list(tuplaBanco)#convierte de tupla a lista\n",
    "print(lstBanco);\n",
    "#MATRICES!!!!!!!!!!!!!!!!!#Es una lista de listas\n",
    "print(\"__________________________________________________\");\n",
    "MTecladoTelefono=[[1,2,3],[4,5,6],[7,8,9]]\n",
    "print(MTecladoTelefono);\n",
    "print(MTecladoTelefono[1][2]);\n",
    "for i in range(len(MTecladoTelefono)):#len te dice la longitud\n",
    "    for j in range(len(MTecladoTelefono[i])):#len te dice la longitud de las columnas el i\n",
    "        print(MTecladoTelefono[i][j],end=\" \");\n",
    "        print(\"fila {} \\n\".format(i));\n",
    "        print(\"columna {} \\n\".format(j));\n",
    "    print();"
   ]
  },
  {
   "cell_type": "code",
   "execution_count": null,
   "id": "644f31e3",
   "metadata": {},
   "outputs": [],
   "source": []
  }
 ],
 "metadata": {
  "kernelspec": {
   "display_name": "Python 3.9.13 64-bit",
   "language": "python",
   "name": "python3"
  },
  "language_info": {
   "codemirror_mode": {
    "name": "ipython",
    "version": 3
   },
   "file_extension": ".py",
   "mimetype": "text/x-python",
   "name": "python",
   "nbconvert_exporter": "python",
   "pygments_lexer": "ipython3",
   "version": "3.9.13"
  },
  "vscode": {
   "interpreter": {
    "hash": "c0d59bbbd611977145fc96e9dce4f0980c16e42da117d97d925fd5a5a42cba33"
   }
  }
 },
 "nbformat": 4,
 "nbformat_minor": 5
}
