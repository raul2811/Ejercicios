{
 "cells": [
  {
   "cell_type": "code",
   "execution_count": 2,
   "id": "aa5b1fe8",
   "metadata": {},
   "outputs": [
    {
     "name": "stdout",
     "output_type": "stream",
     "text": [
      "3\n"
     ]
    }
   ],
   "source": [
    "class semestre: # clase principal o clase padre\n",
    "    def __init__(self,numero_de_materias):\n",
    "        self.numero_de_materias=numero_de_materias\n",
    " #################################  GETTERS y SETTERS  #########\n",
    "  #_____________GETTERS_________________________\n",
    "    def get_numero_de_materias(self):\n",
    "        return self.numero_de_materias\n",
    "  #_____________SETTERS_________________________   \n",
    "    def set_numero_de_materias(self,numero_de_materias):\n",
    "        self.numero_de_materias=numero_de_materias\n",
    "################################ MAIN ###########################################\n",
    "Estudiante1=semestre(3)\n",
    "print(Estudiante1.get_numero_de_materias())"
   ]
  }
 ],
 "metadata": {
  "kernelspec": {
   "display_name": "Python 3 (ipykernel)",
   "language": "python",
   "name": "python3"
  },
  "language_info": {
   "codemirror_mode": {
    "name": "ipython",
    "version": 3
   },
   "file_extension": ".py",
   "mimetype": "text/x-python",
   "name": "python",
   "nbconvert_exporter": "python",
   "pygments_lexer": "ipython3",
   "version": "3.9.12"
  }
 },
 "nbformat": 4,
 "nbformat_minor": 5
}
