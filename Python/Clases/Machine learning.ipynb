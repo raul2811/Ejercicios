{
 "cells": [
  {
   "cell_type": "code",
   "execution_count": 1,
   "id": "23163c3b",
   "metadata": {},
   "outputs": [],
   "source": [
    "import pandas as pd \n",
    "from IPython.core.display import HTML\n",
    "from sklearn.datasets import load_breast_cancer\n",
    "\n",
    "data=load_breast_cancer()\n"
   ]
  },
  {
   "cell_type": "code",
   "execution_count": null,
   "id": "3ad50bc7",
   "metadata": {},
   "outputs": [],
   "source": [
    "help(data)\n",
    "#bucn hace referencia a multi indexing , contenedor de keys "
   ]
  },
  {
   "cell_type": "code",
   "execution_count": null,
   "id": "40f1f3da",
   "metadata": {},
   "outputs": [],
   "source": [
    "df_x=pd.DataFrame(data[\"data\"])#eje x\n",
    "display(HTML(df_x.to_html()))"
   ]
  },
  {
   "cell_type": "code",
   "execution_count": null,
   "id": "c055a14a",
   "metadata": {},
   "outputs": [],
   "source": [
    "df_y=pd.DataFrame(data[\"target\"])#eje y\n",
    "display(HTML(df_y.to_html()))"
   ]
  }
 ],
 "metadata": {
  "kernelspec": {
   "display_name": "Python 3 (ipykernel)",
   "language": "python",
   "name": "python3"
  },
  "language_info": {
   "codemirror_mode": {
    "name": "ipython",
    "version": 3
   },
   "file_extension": ".py",
   "mimetype": "text/x-python",
   "name": "python",
   "nbconvert_exporter": "python",
   "pygments_lexer": "ipython3",
   "version": "3.9.12"
  }
 },
 "nbformat": 4,
 "nbformat_minor": 5
}
