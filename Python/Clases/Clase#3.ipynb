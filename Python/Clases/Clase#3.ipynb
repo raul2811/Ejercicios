{
 "cells": [
  {
   "cell_type": "code",
   "execution_count": 23,
   "id": "42551122",
   "metadata": {},
   "outputs": [
    {
     "name": "stdout",
     "output_type": "stream",
     "text": [
      "{'nombre': 'jose', 'edad': '28', 'codigo': '3'}\n",
      "jose\n",
      "{'jose': {'nombre': 'jose', 'edad': '28', 'codigo': '3'}, 'rafa': {'nombre': 'rafa', 'edad': '30', 'codigo': '7'}}\n"
     ]
    }
   ],
   "source": [
    "#diccionario={\"key\":\"valor\"}\n",
    "profe1={\"nombre\":\"jose\",\"edad\":\"28\",\"codigo\":\"3\"};\n",
    "profe2={\"nombre\":\"rafa\",\"edad\":\"30\",\"codigo\":\"7\"};\n",
    "datos_profes={\"jose\":profe1,\"rafa\":profe2};\n",
    "print(profe1);\n",
    "print(profe1[\"nombre\"]);\n",
    "print(datos_profes)"
   ]
  },
  {
   "cell_type": "code",
   "execution_count": 7,
   "id": "3a761ae5",
   "metadata": {},
   "outputs": [
    {
     "name": "stdout",
     "output_type": "stream",
     "text": [
      "['cancion1', 'cancion2', 'cancion3', 'cancion4', 'cancion5', 'cancion6', 'cancion7']\n"
     ]
    }
   ],
   "source": [
    "rock=[\"cancion1\",\"cancion2\",\"cancion3\"];\n",
    "bachata=[\"cancion4\",\"cancion5\",\"cancion6\"];\n",
    "pop=[\"cancion7\"]\n",
    "playlist=rock+bachata;\n",
    "playlist.append(\"cancion7\")#\"append\"agrega una nueva entrada\n",
    "playlist.extend(\"cancion8\")#\"extend\"separa en silabas un string\n",
    "print(playlist);"
   ]
  }
 ],
 "metadata": {
  "kernelspec": {
   "display_name": "Python 3 (ipykernel)",
   "language": "python",
   "name": "python3"
  },
  "language_info": {
   "codemirror_mode": {
    "name": "ipython",
    "version": 3
   },
   "file_extension": ".py",
   "mimetype": "text/x-python",
   "name": "python",
   "nbconvert_exporter": "python",
   "pygments_lexer": "ipython3",
   "version": "3.9.12"
  }
 },
 "nbformat": 4,
 "nbformat_minor": 5
}
