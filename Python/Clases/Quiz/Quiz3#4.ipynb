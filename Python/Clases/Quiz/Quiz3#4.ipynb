{
 "cells": [
  {
   "cell_type": "markdown",
   "id": "60dbfc46",
   "metadata": {},
   "source": [
    "# ---------------Quiz3---------------"
   ]
  },
  {
   "cell_type": "code",
   "execution_count": null,
   "id": "cb7584ec",
   "metadata": {},
   "outputs": [],
   "source": [
    "#Q.03-01\n",
    "def distancia (x1,y1,x2,y2):\n",
    "    proceso1=((x2-x1)**2)\n",
    "    proceso2=((y2-y1)**2)\n",
    "    proceso3=(proceso1+proceso2)\n",
    "    resultado=(proceso3**0.5)\n",
    "    print(\"La Distacia Entre A:{},{} Y B:{},{} Es: Raiz de {} O {:.2f} Metros\".format(num[0],num[1],num[2],num[3],proceso3,resultado))\n",
    "num=[]\n",
    "for x in range (2):\n",
    "    print(\"Ingrese El valor de X\",x+1)\n",
    "    num.append(input())\n",
    "    print(\"Ingrese El valor de Y\",x+1)\n",
    "    num.append(input())     \n",
    "distancia(int(num[0]),int(num[1]),int(num[2]),int(num[3]))    "
   ]
  },
  {
   "cell_type": "code",
   "execution_count": null,
   "id": "27cd0380",
   "metadata": {},
   "outputs": [],
   "source": [
    "#Q.03-02\n",
    "def is_palindrome(palabra):\n",
    "    if len(palabra) < 1:#Si el largo de la palabra es menor a 1 entonces es cierto\n",
    "        return True\n",
    "    else:\n",
    "        if palabra[0] == palabra[-1]:\n",
    "            return is_palindrome(palabra[1:-1])\n",
    "        else:\n",
    "            return False\n",
    "palabra=str(input(\"Ingrese Una Palabra:\"))\n",
    "if(is_palindrome(palabra)==True):\n",
    "    print(\"La Cadena Es Un Palindromo!\")\n",
    "else:\n",
    "    print(\"La Cadena No Es Un Palindromo!\")"
   ]
  },
  {
   "cell_type": "code",
   "execution_count": null,
   "id": "c6232128",
   "metadata": {},
   "outputs": [],
   "source": [
    "#Q.03-03\n",
    "n_list=[10,20,30]\n",
    "mapped_numbers_duplicados=(map(lambda x:x*2,n_list))\n",
    "mapped_numbers_triplicados=(map(lambda x:x*3,n_list))\n",
    "mapped_numbers_cuadriplicados=(map(lambda x:x*4,n_list))\n",
    "print(\"La Lista n_list Con Los Valores Inicales = {} Su Valor Fue Duplicado Dando Como Resultado = {} ,\"\n",
    "\"Su Valor Fue Triplicado Dando Como Resultado = {} , Su Valor Fue Cuadriplicado Dando Como Resultado = {}\"\n",
    ".format(n_list,list(mapped_numbers_duplicados),list(mapped_numbers_triplicados)\n",
    ",list(mapped_numbers_cuadriplicados)))\n"
   ]
  },
  {
   "cell_type": "code",
   "execution_count": null,
   "id": "cb6b0d95",
   "metadata": {},
   "outputs": [],
   "source": [
    "#Q.03-04. \n",
    "def calc_digit(n):\n",
    "    def final(digit):\n",
    "        return digit**n\n",
    "    return final\n",
    "num_list=[]\n",
    "for num in range(1,6):\n",
    "    num_list.append(calc_digit(num))\n",
    "    print(num_list[num-1](num))"
   ]
  },
  {
   "cell_type": "code",
   "execution_count": null,
   "id": "fc17a492",
   "metadata": {},
   "outputs": [],
   "source": [
    "#Q.03-05.\n",
    "def __mul__(a,b):\n",
    "    return (a * b)\n",
    "def __truediv__(a,b):\n",
    "    return (a / b)\n",
    "v1=[30,40]\n",
    "v2=[10,20]\n",
    "print(\"v1*v2=({},{})\".format(__mul__(v1[1],v2[1]),(__mul__(v1[0],v2[0]))))\n",
    "print(\"v1*v2=({},{})\".format(__truediv__(v1[1],v2[1]),(__truediv__(v1[0],v2[0]))))"
   ]
  },
  {
   "cell_type": "code",
   "execution_count": null,
   "id": "19401cde",
   "metadata": {},
   "outputs": [],
   "source": [
    "#Q.03-05.  :V\n",
    "import pandas as pd\n",
    "v1=[30,40]\n",
    "v2=[10,20]\n",
    "serie1=pd.Series(v1)\n",
    "serie2=pd.Series(v2)\n",
    "serie4=serie1/serie2\n",
    "print(\"v1*v2=({},{})\".format(serie3[0],serie3[1]))\n",
    "print(\"v1/2=({},{})\".format(serie4[0],serie4[1]))"
   ]
  },
  {
   "cell_type": "markdown",
   "id": "92292bf9",
   "metadata": {},
   "source": [
    "# ---------------Quiz4---------------"
   ]
  },
  {
   "cell_type": "code",
   "execution_count": null,
   "id": "55142f85",
   "metadata": {},
   "outputs": [],
   "source": [
    "#Q.04-01\n",
    "stack=Stack()\n",
    "stack.push(\"Banana\")\n",
    "stack.push(\"Apple\")\n",
    "stack.push(\"Tomato\")\n",
    "stack.pop()\n",
    "stack.push(\"Strawberry\")\n",
    "stack.push(\"Grapes\")\n",
    "stack.pop()\n",
    "print(stack.stack)"
   ]
  },
  {
   "cell_type": "code",
   "execution_count": null,
   "id": "a3f05091",
   "metadata": {},
   "outputs": [],
   "source": [
    "   \n",
    "stack=Stack()\n",
    "items=[10* i for i in range (1,10)]\n",
    "for item in items:\n",
    "    stack.push(item)\n",
    "    if(item//10)%2==0:\n",
    "        stack.pop()\n",
    "print(stack.stack)"
   ]
  },
  {
   "cell_type": "code",
   "execution_count": null,
   "id": "6067b043",
   "metadata": {},
   "outputs": [],
   "source": [
    "for x in range (1,11):\n",
    "    numero=x*10\n",
    "    operacion=((numero//10)%2)\n",
    "    print(\"El Resultado de {} Es {} Paso #\".format(numero,operacion,x))\n"
   ]
  },
  {
   "cell_type": "code",
   "execution_count": null,
   "id": "a23f8c98",
   "metadata": {},
   "outputs": [],
   "source": [
    "def find_two(nums):\n",
    "    x = y = 0\n",
    "    for i in range (1,len(nums)):\n",
    "        print(i)\n",
    "        if nums[x]<nums[i]:\n",
    "            x = i \n",
    "        elif nums [y] > nums[i]:\n",
    "            y = i\n",
    "    return x , y\n",
    "nums =[11 ,37, 45, 26, 59, 28, 17, 53]\n",
    "i, j = find_two(nums)\n",
    "print(nums[i],nums[j])"
   ]
  },
  {
   "cell_type": "code",
   "execution_count": null,
   "id": "e19ba27c",
   "metadata": {},
   "outputs": [],
   "source": [
    "from random import randint \n",
    "maximun = int(input(\"Enter the number of maximun\"))\n",
    "number = int(input(\"Enter your guessing number:\"))\n",
    "count = 0\n",
    "low, high = 1, maximun\n",
    "while low<high:\n",
    "    mid = (low+high) // 2\n",
    "    count += 1\n",
    "    if mid == number:\n",
    "        print(f\"your number is {number}.\")\n",
    "        break\n",
    "    elif mid > number:\n",
    "        high = mid -1\n",
    "    else:\n",
    "        low = mid + 1\n",
    "print(f\"total {count} time are searched.\")"
   ]
  },
  {
   "cell_type": "code",
   "execution_count": 17,
   "id": "c488bde9",
   "metadata": {},
   "outputs": [
    {
     "name": "stdout",
     "output_type": "stream",
     "text": [
      "0x2901a5fd2d0\n"
     ]
    }
   ],
   "source": [
    "#Q.04-08\n",
    "class hash_table:\n",
    "    def __init__(self):\n",
    "        self.table = [None] * 127\n",
    "    \n",
    "    # Función hash\n",
    "    def Hash_func(self, value):\n",
    "        key = 0\n",
    "        for i in range(0,len(value)):\n",
    "            key += ord(value[i])\n",
    "        return key % 127\n",
    "\n",
    "    def Insert(self, value): # Metodo para ingresar elementos\n",
    "        hash = self.Hash_func(value)\n",
    "        if self.table[hash] is None:\n",
    "            self.table[hash] = value\n",
    "   \n",
    "    def Search(self,value): # Metodo para buscar elementos\n",
    "        hash = self.Hash_func(value);\n",
    "        if self.table[hash] is None:\n",
    "            return None\n",
    "        else:\n",
    "            return hex(id(self.table[hash]))\n",
    "  \n",
    "    def Remove(self,value): # Metodo para eleminar elementos\n",
    "        hash = self.Hash_func(value);\n",
    "        if self.table[hash] is None:\n",
    "            print(\"No hay elementos con ese valor\", value)\n",
    "        else:\n",
    "            print(\"Elemento con valor\", value, \"eliminado\")\n",
    "            self.table[hash] is None;\n",
    "        \n",
    "        \n",
    "H = hash_table()\n",
    "H.Insert(\"A\")\n",
    "H.Insert(\"B\")\n",
    "H.Insert(\"C\")\n",
    "H.Insert(\"Alicia en el país de las maravillas\")\n",
    "\n",
    "print(H.Search(\"Alicia en el país de las maravillas\"))"
   ]
  },
  {
   "cell_type": "code",
   "execution_count": 32,
   "id": "dc974914",
   "metadata": {},
   "outputs": [
    {
     "ename": "AttributeError",
     "evalue": "'list' object has no attribute 'put'",
     "output_type": "error",
     "traceback": [
      "\u001b[1;31m---------------------------------------------------------------------------\u001b[0m",
      "\u001b[1;31mAttributeError\u001b[0m                            Traceback (most recent call last)",
      "Input \u001b[1;32mIn [32]\u001b[0m, in \u001b[0;36m<cell line: 11>\u001b[1;34m()\u001b[0m\n\u001b[0;32m     11\u001b[0m \u001b[38;5;28;01mfor\u001b[39;00m book \u001b[38;5;129;01min\u001b[39;00m books:\n\u001b[0;32m     12\u001b[0m     key\u001b[38;5;241m=\u001b[39m\u001b[38;5;28msum\u001b[39m(\u001b[38;5;28mmap\u001b[39m(\u001b[38;5;28mord\u001b[39m,book))\n\u001b[1;32m---> 13\u001b[0m     \u001b[43mtable\u001b[49m\u001b[38;5;241;43m.\u001b[39;49m\u001b[43mput\u001b[49m(key, book)\n\u001b[0;32m     14\u001b[0m \u001b[38;5;28;01mfor\u001b[39;00m key \u001b[38;5;129;01min\u001b[39;00m table\u001b[38;5;241m.\u001b[39mtable\u001b[38;5;241m.\u001b[39mkey():\n\u001b[0;32m     15\u001b[0m     \u001b[38;5;28mprint\u001b[39m(key, table\u001b[38;5;241m.\u001b[39mtable[key])\n",
      "\u001b[1;31mAttributeError\u001b[0m: 'list' object has no attribute 'put'"
     ]
    }
   ],
   "source": [
    "#Q.04-9\n",
    "table = HashTable(10)\n",
    "books = [\n",
    "    \"The Little Price\"\n",
    "    \"The Old Man And The Sea\"\n",
    "    \"The Little Mermaid\"\n",
    "    \"Beauty And The Beast\"\n",
    "    \"The Last Leaf\"\n",
    "    \"Alice In WonderLand\"\n",
    "]\n",
    "for book in books:\n",
    "    key=sum(map(ord,book))\n",
    "    table.put(key, book)\n",
    "for key in table.table.key():\n",
    "    print(key, table.table[key])"
   ]
  }
 ],
 "metadata": {
  "celltoolbar": "Attachments",
  "kernelspec": {
   "display_name": "Python 3 (ipykernel)",
   "language": "python",
   "name": "python3"
  },
  "language_info": {
   "codemirror_mode": {
    "name": "ipython",
    "version": 3
   },
   "file_extension": ".py",
   "mimetype": "text/x-python",
   "name": "python",
   "nbconvert_exporter": "python",
   "pygments_lexer": "ipython3",
   "version": "3.9.12"
  }
 },
 "nbformat": 4,
 "nbformat_minor": 5
}
