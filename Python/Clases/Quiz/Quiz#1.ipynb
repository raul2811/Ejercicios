{
 "cells": [
  {
   "cell_type": "code",
   "execution_count": null,
   "id": "15838be0",
   "metadata": {},
   "outputs": [],
   "source": [
    "#pregunta #1\n",
    "print(1+2+3+4+5);"
   ]
  },
  {
   "cell_type": "code",
   "execution_count": null,
   "id": "f0ef4b45",
   "metadata": {},
   "outputs": [],
   "source": [
    "try:\n",
    "    numero=();\n",
    "    comprobacion=();\n",
    "    print(\"----------------------------------------------------\");\n",
    "    print(\"Programa Que Determina Si un Numero Es Par O Impar\");\n",
    "    print(\"----------------------------------------------------\");\n",
    "    numero=input(\"Ingrese un numero Y Presiona Enter \\n\"+\"-\");\n",
    "    comprobacion=(int(numero)%2);\n",
    "    if comprobacion==0:\n",
    "        print(\"El Numero\",numero,\" Es Par\");\n",
    "    else:\n",
    "        print(\"El Numero\",numero,\" Es Impar\");\n",
    "except:\n",
    "        print(\"Verifica Si Lo Ingresado Es Un Numero\");"
   ]
  },
  {
   "cell_type": "code",
   "execution_count": null,
   "id": "5c5a1d93",
   "metadata": {},
   "outputs": [],
   "source": [
    "Numero=(input(\"Ingrese El Numero De Veces Que Desea Imprimir El Caracter\"));\n",
    "print(\" *\"*int(Numero),end=(\"\\n\\n\"));\n",
    "print(\" #\"*int(Numero));\n"
   ]
  },
  {
   "cell_type": "code",
   "execution_count": null,
   "id": "51935647",
   "metadata": {},
   "outputs": [],
   "source": [
    "def Formato(Palabra):\n",
    "    Decoracion=len(Palabra)\n",
    "    print(\"+\"+\"-\"*int(Decoracion)+\"+\",end=(\"\\n\"),);\n",
    "    print(\"|\"+str(Palabra)+\"|\");\n",
    "    print(\"+\"+\"-\"*int(Decoracion)+\"+\")\n",
    "Palabra=(input(\"Ingrese Lo Que Desea Imprimir\"));\n",
    "Formato(Palabra);"
   ]
  },
  {
   "cell_type": "code",
   "execution_count": 2,
   "id": "15af2328",
   "metadata": {},
   "outputs": [
    {
     "name": "stdout",
     "output_type": "stream",
     "text": [
      "Ingrese Su Direccion\n",
      "-141149641949494949819841949641894984949494984194198649494949494949849849498498489494\n",
      "Ingresa Tu Nombre\n",
      "-1\n",
      "Su Nombre Es:\n",
      "+-+\n",
      "|1|\n",
      "+-+\n",
      "Su Dirrecion Es:\n",
      "+------------------------------------------------------------------------------------+\n",
      "|141149641949494949819841949641894984949494984194198649494949494949849849498498489494|\n",
      "+------------------------------------------------------------------------------------+\n"
     ]
    }
   ],
   "source": [
    "def Formato(Palabra):\n",
    "    Decoracion=len(Palabra)\n",
    "    print(\"+\"+\"-\"*int(Decoracion)+\"+\",end=(\"\\n\"),);\n",
    "    print(\"|\"+str(Palabra)+\"|\");\n",
    "    print(\"+\"+\"-\"*int(Decoracion)+\"+\")\n",
    "Direccion=(input(\"Ingrese Su Direccion\\n\"+\"-\"));\n",
    "Nombre=(input(\"Ingresa Tu Nombre\\n\"+\"-\"));\n",
    "print(\"Su Nombre Es:\");\n",
    "Formato(Nombre);\n",
    "print(\"Su Dirrecion Es:\");\n",
    "Formato(Direccion);"
   ]
  },
  {
   "cell_type": "code",
   "execution_count": null,
   "id": "d2f0038d",
   "metadata": {},
   "outputs": [],
   "source": [
    "x=(input(\"Ingrese El Valor De X (1) O (0) Y Presione Enter\\n\"+(\"-\")));\n",
    "y=(input(\"Ingrese El Valor De Y (1) O (0) Y Presione Enter\\n\"+(\"-\")));\n",
    "print(\"Tabla De Verdad De AND\");\n",
    "if x==(\"0\") and y==(\"0\"):\n",
    "    print(\"El Valor De S En La Tabla De Verdad De AND Es: 0\");\n",
    "elif x==(\"0\") and y==(\"1\"):\n",
    "    print(\"El Valor De S En La Tabla De Verdad De AND Es: 0\");\n",
    "elif x==(\"1\") and y==(\"0\"):\n",
    "    print(\"El Valor De S En La Tabla De Verdad De AND Es: 0\");\n",
    "else:\n",
    "    print(\"El Valor De S En La Tabla De Verdad De AND Es: 1\");\n",
    "print(\"Tabla De Verdad De OR\");\n",
    "if x==(\"0\") and y==(\"0\"):\n",
    "    print(\"El Valor De S En La Tabla De Verdad De OR Es 0\");\n",
    "elif x==(\"0\") and y==(\"1\"):\n",
    "    print(\"El Valor De S En La Tabla De Verdad De OR Es: 1\");\n",
    "elif x==(\"1\") and y==(\"0\"):\n",
    "    print(\"El Valor De S En La Tabla De Verdad De OR Es: 1\");\n",
    "else:\n",
    "    print(\"El Valor De S En La Tabla De Verdad De OR Es: 1\");"
   ]
  },
  {
   "cell_type": "code",
   "execution_count": null,
   "id": "df1507a0",
   "metadata": {},
   "outputs": [],
   "source": [
    "numero1=int(input(\"Ingresa Un Numero Y Presiona Enter\\n\"+\"1)\"));\n",
    "numero2=int(input(\"Ingresa Un Numero Y Presiona Enter\\n\"+\"2)\"));\n",
    "if numero1>numero2:\n",
    "    Mayor=numero1\n",
    "elif numero1<numero2:\n",
    "    Menor=numero1\n",
    "if numero2>numero1:\n",
    "    Mayor=numero2\n",
    "elif numero2<numero1:\n",
    "    Menor=numero2\n",
    "if numero1==numero2: \n",
    "    print(\"El Numero\",str(numero1),\"Y\",\"El Numero\",str(numero2),\"Son Iguales\");\n",
    "elif numero1!=numero2:\n",
    "    print(str(Mayor),\"Es El Mayor\");\n",
    "    print(str(Menor),\"Es El Menor\");"
   ]
  },
  {
   "cell_type": "code",
   "execution_count": null,
   "id": "42721e66",
   "metadata": {},
   "outputs": [],
   "source": [
    "AdultoNiño=input(\"Usted Es Un Adulto(0) o Un Niño(1) Ingrese El Numero Que Corresponde A Su Respuesta Y Presione Enter\\n\"+\"-\");\n",
    "Adulto_Niño=(\"\");\n",
    "Soltero_Casado=(\"\");\n",
    "if AdultoNiño==(\"0\"):\n",
    "    Adulto_Niño=(\"Adulto\");\n",
    "    SolteroCasado=input(\"Esta Usted Soltero(0) o Casado(1) Ingrese El Numero Que Corresponde A Su Respuesta Y Presione Enter\\n\"+\"-\");\n",
    "    if SolteroCasado==(\"0\"):\n",
    "        Soltero_Casado=(\"Soltero\");\n",
    "    elif SolteroCasado==(\"1\"):\n",
    "        Soltero_Casado=(\"Casado\");\n",
    "if AdultoNiño!=(\"1\"):\n",
    "    print(\"Usted Es Un\",Adulto_Niño,\"Y Usted Esta\",Soltero_Casado);\n",
    "else:\n",
    "    print(\"Usted Es Un Niño\");"
   ]
  },
  {
   "cell_type": "code",
   "execution_count": null,
   "id": "77e4a716",
   "metadata": {},
   "outputs": [
    {
     "name": "stdout",
     "output_type": "stream",
     "text": [
      "Ingresa un numero:5\n"
     ]
    }
   ],
   "source": []
  },
  {
   "cell_type": "code",
   "execution_count": 8,
   "id": "e5563a7e",
   "metadata": {},
   "outputs": [
    {
     "name": "stdout",
     "output_type": "stream",
     "text": [
      "3.1416\n"
     ]
    }
   ],
   "source": []
  }
 ],
 "metadata": {
  "kernelspec": {
   "display_name": "Python 3 (ipykernel)",
   "language": "python",
   "name": "python3"
  },
  "language_info": {
   "codemirror_mode": {
    "name": "ipython",
    "version": 3
   },
   "file_extension": ".py",
   "mimetype": "text/x-python",
   "name": "python",
   "nbconvert_exporter": "python",
   "pygments_lexer": "ipython3",
   "version": "3.9.12"
  }
 },
 "nbformat": 4,
 "nbformat_minor": 5
}
