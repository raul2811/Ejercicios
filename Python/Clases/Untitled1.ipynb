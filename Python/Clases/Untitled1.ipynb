{
 "cells": [
  {
   "cell_type": "code",
   "execution_count": 4,
   "id": "f0ba0e49",
   "metadata": {},
   "outputs": [
    {
     "data": {
      "text/plain": [
       "120"
      ]
     },
     "execution_count": 4,
     "metadata": {},
     "output_type": "execute_result"
    }
   ],
   "source": [
    " from math import sin,cos,factorial as f\n",
    "f(5)"
   ]
  },
  {
   "cell_type": "code",
   "execution_count": 10,
   "id": "d0028b41",
   "metadata": {},
   "outputs": [
    {
     "name": "stdout",
     "output_type": "stream",
     "text": [
      "0.9522894806049707\n"
     ]
    }
   ],
   "source": [
    "import random\n",
    "a=random.random()\n",
    "print(a)"
   ]
  },
  {
   "cell_type": "code",
   "execution_count": 12,
   "id": "783d184c",
   "metadata": {},
   "outputs": [
    {
     "name": "stdout",
     "output_type": "stream",
     "text": [
      "tortuga\n",
      "slime\n",
      "slime\n",
      "tortuga\n",
      "slime\n",
      "orco\n"
     ]
    }
   ],
   "source": [
    "import random\n",
    "lst_enemys=[\"orco\",\"dragon\",\"tortuga\",\"via libre\",\"slime\",\"47 withers\"]\n",
    "enemy=random.choice(lst_enemys)\n",
    "for i in lst_enemys:\n",
    "    enemy=random.choice(lst_enemys)\n",
    "    print(enemy)"
   ]
  },
  {
   "cell_type": "code",
   "execution_count": 80,
   "id": "afeb877a",
   "metadata": {},
   "outputs": [
    {
     "name": "stdout",
     "output_type": "stream",
     "text": [
      "[1, 3, 5, 7, 9]\n",
      "7\n",
      "8\n"
     ]
    }
   ],
   "source": [
    "import random \n",
    "print(list(range(1,10,2)))\n",
    "a=random.randrange(1,10,2)\n",
    "b=random.randrange(2,10,2)\n",
    "print(a)\n",
    "print(b)"
   ]
  },
  {
   "cell_type": "code",
   "execution_count": 85,
   "id": "a2aeb7c5",
   "metadata": {},
   "outputs": [
    {
     "name": "stdout",
     "output_type": "stream",
     "text": [
      "hello world  1\n",
      "hello world  2\n",
      "hello world  3\n",
      "hello world  4\n",
      "hello world  5\n",
      "hello world  6\n",
      "hello world  7\n",
      "hello world  8\n",
      "hello world  9\n",
      "hello world  10\n"
     ]
    }
   ],
   "source": [
    "import time \n",
    "for i in range (10):\n",
    "    print(\"hello world \",i+1)\n",
    "    time.sleep(2)"
   ]
  },
  {
   "cell_type": "code",
   "execution_count": 98,
   "id": "0e7a0fad",
   "metadata": {},
   "outputs": [
    {
     "name": "stdout",
     "output_type": "stream",
     "text": [
      "Wed-14-Sep 2022 19:13:12 time.struct_time(tm_year=2022, tm_mon=9, tm_mday=15, tm_hour=0, tm_min=13, tm_sec=12, tm_wday=3, tm_yday=258, tm_isdst=0)\n",
      "14-09-Sep -2022 19:13:12 time.struct_time(tm_year=2022, tm_mon=9, tm_mday=14, tm_hour=19, tm_min=13, tm_sec=12, tm_wday=2, tm_yday=257, tm_isdst=0)\n"
     ]
    }
   ],
   "source": [
    "\n",
    "from time import gmtime, strftime ,localtime\n",
    "print(strftime(\"%a-%d-%b %Y %H:%M:%S\"),gmtime())\n",
    "print(strftime(\"%d-%m-%b -%Y %H:%M:%S\"),localtime())"
   ]
  },
  {
   "cell_type": "code",
   "execution_count": 108,
   "id": "d7dc72ea",
   "metadata": {},
   "outputs": [
    {
     "name": "stdout",
     "output_type": "stream",
     "text": [
      "2022-09-14 19:21:05.959446\n",
      "14\n",
      "5\n",
      "19\n",
      "2077-09-14 19:21:05.959446\n"
     ]
    }
   ],
   "source": [
    "from datetime import datetime \n",
    "now=datetime.now()\n",
    "\n",
    "print(now)\n",
    "print(now.day)\n",
    "print(now.second)\n",
    "print(now.hour)\n",
    "replace_time=now.replace(year=2077)\n",
    "print(replace_time)"
   ]
  },
  {
   "cell_type": "code",
   "execution_count": 109,
   "id": "00f76750",
   "metadata": {},
   "outputs": [
    {
     "name": "stdout",
     "output_type": "stream",
     "text": [
      "Wed-14-Sep 2022 19:52:41 time.struct_time(tm_year=2022, tm_mon=9, tm_mday=15, tm_hour=0, tm_min=52, tm_sec=41, tm_wday=3, tm_yday=258, tm_isdst=0)\n"
     ]
    }
   ],
   "source": [
    "from time import strftime\n",
    "print(strftime(\"%a-%d-%b %Y %H:%M:%S\"),gmtime())"
   ]
  },
  {
   "cell_type": "code",
   "execution_count": null,
   "id": "c94761de",
   "metadata": {},
   "outputs": [],
   "source": [
    "import panda as pd\n"
   ]
  }
 ],
 "metadata": {
  "kernelspec": {
   "display_name": "Python 3 (ipykernel)",
   "language": "python",
   "name": "python3"
  },
  "language_info": {
   "codemirror_mode": {
    "name": "ipython",
    "version": 3
   },
   "file_extension": ".py",
   "mimetype": "text/x-python",
   "name": "python",
   "nbconvert_exporter": "python",
   "pygments_lexer": "ipython3",
   "version": "3.9.12"
  }
 },
 "nbformat": 4,
 "nbformat_minor": 5
}
