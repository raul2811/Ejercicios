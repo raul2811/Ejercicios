{
 "cells": [
  {
   "cell_type": "code",
   "execution_count": 1,
   "id": "99c20fc3",
   "metadata": {},
   "outputs": [
    {
     "ename": "IndentationError",
     "evalue": "unexpected indent (1759443988.py, line 9)",
     "output_type": "error",
     "traceback": [
      "\u001b[1;36m  Input \u001b[1;32mIn [1]\u001b[1;36m\u001b[0m\n\u001b[1;33m    for ch in src:\u001b[0m\n\u001b[1;37m    ^\u001b[0m\n\u001b[1;31mIndentationError\u001b[0m\u001b[1;31m:\u001b[0m unexpected indent\n"
     ]
    }
   ],
   "source": [
    "import string \n",
    "def cipher(a):\n",
    "    idx=src_str.index(a)\n",
    "    return dst_str[idx]\n",
    "src_str=string.ascii_uppercase;\n",
    "dst_str=src_str[3:]+src_str[:3];\n",
    "src=input(\"Escribe Una Palabra:\");\n",
    "print(\"Texto Encryptado:\",end=\"\");\n",
    "    for ch in src:\n",
    "      if ch in src_srt:\n",
    "          print(cipher(ch),end=\"\");\n",
    "      else:\n",
    "          print(ch,end=\"\");\n",
    "print();"
   ]
  },
  {
   "cell_type": "code",
   "execution_count": 37,
   "id": "ab302391",
   "metadata": {},
   "outputs": [
    {
     "name": "stdout",
     "output_type": "stream",
     "text": [
      "Ingrese Su Nombre:\n",
      "-Raul\n",
      "Hello, Raul. Good morning!\n"
     ]
    }
   ],
   "source": [
    "def greet(nombre):\n",
    "    print(\"Hello, \" + nombre + \". Good morning!\")\n",
    "nombre=input(\"Ingrese Su Nombre:\\n\"+\"-\")\n",
    "greet(nombre);"
   ]
  },
  {
   "cell_type": "code",
   "execution_count": 59,
   "id": "c0c837f8",
   "metadata": {},
   "outputs": [
    {
     "name": "stdout",
     "output_type": "stream",
     "text": [
      "Hello Hello Hello \n"
     ]
    }
   ],
   "source": [
    "def print_hello(n):# print_hello ES EL NOMBRE DE LA FUNCION.\n",
    "                   # n DETERMINA EL NUMERO DE VECES QUE SE REPETIRA EL CODIGO EN LA FUNCION.\n",
    "    print(\"Hello \" *n)# CADENA*VALOR NUMERICO = CADENA IMPRESA EL NUMERO DE VECES QUE DESEE. \n",
    "print_hello(3);# IMPRIMO LA FUNCION 3 VECES"
   ]
  },
  {
   "cell_type": "code",
   "execution_count": 93,
   "id": "6bdd275e",
   "metadata": {},
   "outputs": [
    {
     "name": "stdout",
     "output_type": "stream",
     "text": [
      "Numero Ingresado # 0\n",
      "Ingrese Un Numero\n",
      "-20\n",
      "Numero Ingresado # 1\n",
      "Ingrese Un Numero\n",
      "-21\n",
      "El Resultado De 20 Y 21 Es: 41\n"
     ]
    }
   ],
   "source": [
    "def print_sum(a,b):\n",
    "    result=(a+b)\n",
    "    print(\"El Resultado De\",a,\"Y\",b,\"Es:\",result)\n",
    "num=[]\n",
    "for x in range (2):\n",
    "    print(\"Numero Ingresado #\",x)\n",
    "    num.append(input(\"Ingrese Un Numero\\n\"+\"-\"))\n",
    "print_sum(int(num[0]),int(num[1]))"
   ]
  },
  {
   "cell_type": "code",
   "execution_count": 96,
   "id": "02673bb1",
   "metadata": {},
   "outputs": [
    {
     "name": "stdout",
     "output_type": "stream",
     "text": [
      "Hello A !\n",
      "Hello B !\n",
      "Hello C !\n",
      "Hello A !\n",
      "Hello B !\n",
      "Hello C !\n",
      "Hello A !\n",
      "Hello B !\n",
      "Hello C !\n",
      "Hello A !\n",
      "Hello B !\n",
      "Hello C !\n"
     ]
    }
   ],
   "source": [
    "def greet(*names):\n",
    "    for name in names:\n",
    "        print(\"Hello\", name, \"!\")\n",
    "greet(\"A\",\"B\",\"C\",\"A\",\"B\",\"C\",\"A\",\"B\",\"C\",\"A\",\"B\",\"C\")"
   ]
  },
  {
   "cell_type": "code",
   "execution_count": 103,
   "id": "36878734",
   "metadata": {},
   "outputs": [
    {
     "name": "stdout",
     "output_type": "stream",
     "text": [
      "0\n",
      "100\n",
      "200\n"
     ]
    }
   ],
   "source": [
    "def sum_nums(*numbers):\n",
    "    result=0\n",
    "    for n in numbers:\n",
    "        print(result)\n",
    "        result+= n\n",
    "        \n",
    "    return result\n",
    "print(sum_nums(100,100))"
   ]
  },
  {
   "cell_type": "code",
   "execution_count": null,
   "id": "56f5c6dc",
   "metadata": {},
   "outputs": [],
   "source": []
  }
 ],
 "metadata": {
  "kernelspec": {
   "display_name": "Python 3 (ipykernel)",
   "language": "python",
   "name": "python3"
  },
  "language_info": {
   "codemirror_mode": {
    "name": "ipython",
    "version": 3
   },
   "file_extension": ".py",
   "mimetype": "text/x-python",
   "name": "python",
   "nbconvert_exporter": "python",
   "pygments_lexer": "ipython3",
   "version": "3.9.12"
  }
 },
 "nbformat": 4,
 "nbformat_minor": 5
}
