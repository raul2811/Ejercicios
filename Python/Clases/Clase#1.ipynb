{
 "cells": [
  {
   "cell_type": "code",
   "execution_count": null,
   "id": "d7bbb1f4",
   "metadata": {},
   "outputs": [],
   "source": [
    "#Plan de ejecucion\n",
    "#Que Quiero lograr\n",
    "#Pasos\n",
    "#Que necesito (Entradas)-->inputs\n",
    "#desiciones\n",
    "#salidas--->outputs\n"
   ]
  },
  {
   "cell_type": "code",
   "execution_count": 12,
   "id": "f7cbcc2c",
   "metadata": {
    "scrolled": true
   },
   "outputs": [
    {
     "name": "stdout",
     "output_type": "stream",
     "text": [
      "Ingrese Dos Numeros Separados Por Un Espacio\n",
      "3  555\n",
      "El Resultado De la Suma Es:558\n",
      "El Resultado De la Suma Es:-552\n",
      "El Resultado De La Division Es:0.005405405405405406\n",
      "El Resultado De La Multiplicacion Es:1665\n",
      "El Resultado De La Potencia Es:6343024215850895913032286886551858594319176253327200371823358724546637560666117338844500588186239924047131339687636694300880331749051895678668366804952281838511943102220114097472327712684068206259593546932820607032341865542063925112486450840196333039210939219440507\n",
      "El Resultado De El Modulo Es:3\n",
      "El Resultado De El Cociente Exacto Es:0\n",
      "El Numero Mayor ES:555\n"
     ]
    }
   ],
   "source": [
    "#Calculadora\n",
    "#Estudiante:Raul Serrano\n",
    "#Clase 1 17/08/2022\n",
    "#---------------------------------------------------------\n",
    "try:\n",
    "#identacion:espacio entre margen y codigo.\n",
    "#type:identifica el tipo de dato.\n",
    "    numero1,numero2=input(\"Ingrese Dos Numeros Separados Por Un Espacio\\n\").split();\n",
    "    suma=int(numero1)+int(numero2);\n",
    "    resta=int(numero1)-int(numero2);\n",
    "    division=int(numero1)/int(numero2);\n",
    "    multiplicacion=int(numero1)*int(numero2);\n",
    "    potencia=int(numero1)**int(numero2);\n",
    "    modulo=int(numero1)%int(numero2);\n",
    "    cocienteExacto=int(numero1)//int(numero2);\n",
    "    print(\"El Resultado De la Suma Es:\"+str(suma));\n",
    "    print(\"El Resultado De la Suma Es:\"+str(resta));\n",
    "    print(\"El Resultado De La Division Es:\"+str(division));\n",
    "    print(\"El Resultado De La Multiplicacion Es:\"+str(multiplicacion));\n",
    "    print(\"El Resultado De La Potencia Es:\"+str(potencia));\n",
    "    print(\"El Resultado De El Modulo Es:\"+str(modulo));\n",
    "    print(\"El Resultado De El Cociente Exacto Es:\"+str(cocienteExacto));\n",
    "    if ((numero1)>(numero2)):\n",
    "        print(\"El Numero Mayor ES:\"+(numero1));\n",
    "    elif ((numero2)>(numero1)):\n",
    "        print(\"El Numero Mayor ES:\"+(numero2));\n",
    "    else:\n",
    "        print(\"Los Numeros Son Iguales:\"+(numero1));    \n",
    "except:\n",
    "    print(\"Verifica Si Lo Ingresado Es Un Numero\");\n",
    "    print(\"Ingreso:\"+(numero1));\n",
    "    print(\"Ingreso:\"+(numero2));"
   ]
  },
  {
   "cell_type": "code",
   "execution_count": 15,
   "id": "2bd7921a",
   "metadata": {},
   "outputs": [
    {
     "name": "stdout",
     "output_type": "stream",
     "text": [
      "Ingrese Su Usuariojose\n",
      "Ingrese Su Contrasenaadsad\n",
      "Contrase;a incorrecta\n"
     ]
    }
   ],
   "source": [
    "user=(\"jose\");\n",
    "password=(\"python\");\n",
    "us=input(\"Ingrese Su Usuario\");\n",
    "pas=input(\"Ingrese Su Contrasena\");\n",
    "if (user==us) and (password==pas):\n",
    "    print(\"Logueado\");\n",
    "elif (user==us) and (password!=pas):\n",
    "    print (\"Contrasena incorrecta\");\n",
    "else:\n",
    "    print(\"Datos incorrectos\");"
   ]
  },
  {
   "cell_type": "code",
   "execution_count": 23,
   "id": "098c6082",
   "metadata": {},
   "outputs": [
    {
     "name": "stdout",
     "output_type": "stream",
     "text": [
      "Ingrese Su Contrasena:\n",
      "dasdas\n",
      "Login Failed\n",
      "Ingrese Su Contrasena:\n",
      "adasdasd\n",
      "Login Failed\n",
      "Ingrese Su Contrasena:\n",
      "asdasd\n",
      "Login Failed\n"
     ]
    }
   ],
   "source": [
    "password=(\"python\");\n",
    "pas=(\"\");\n",
    "contador=0;\n",
    "while(pas!=(password))and (contador<3):\n",
    "    contador+=1#contador abreviado  es igual a escribir contador=contador+1\n",
    "    pas=input(\"Ingrese Su Contrasena:\\n\");\n",
    "    if(pas!=password):    \n",
    "        print(\"Login Failed\");\n",
    "    else:\n",
    "        print(\"Login Success\");\n",
    "        contador=4;"
   ]
  },
  {
   "cell_type": "code",
   "execution_count": 7,
   "id": "1ee8986e",
   "metadata": {},
   "outputs": [
    {
     "name": "stdout",
     "output_type": "stream",
     "text": [
      "100\n"
     ]
    }
   ],
   "source": [
    "a=200;\n",
    "a=100;\n",
    "print(a);"
   ]
  }
 ],
 "metadata": {
  "kernelspec": {
   "display_name": "Python 3 (ipykernel)",
   "language": "python",
   "name": "python3"
  },
  "language_info": {
   "codemirror_mode": {
    "name": "ipython",
    "version": 3
   },
   "file_extension": ".py",
   "mimetype": "text/x-python",
   "name": "python",
   "nbconvert_exporter": "python",
   "pygments_lexer": "ipython3",
   "version": "3.9.12"
  }
 },
 "nbformat": 4,
 "nbformat_minor": 5
}
